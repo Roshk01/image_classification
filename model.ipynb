{
 "cells": [
  {
   "cell_type": "code",
   "execution_count": 1,
   "id": "5d6d52e4",
   "metadata": {},
   "outputs": [],
   "source": [
    "import tensorflow as tf\n",
    "import matplotlib.pyplot as plt\n",
    "import numpy as np\n",
    "from tensorflow import keras"
   ]
  },
  {
   "cell_type": "code",
   "execution_count": 3,
   "id": "ab58e9a1",
   "metadata": {},
   "outputs": [
    {
     "name": "stdout",
     "output_type": "stream",
     "text": [
      "Downloading data from https://www.cs.toronto.edu/~kriz/cifar-10-python.tar.gz\n",
      "170498071/170498071 [==============================] - 38s 0us/step\n"
     ]
    }
   ],
   "source": [
    "(x_train,y_train),(x_test, y_test) = tf.keras.datasets.cifar10.load_data()"
   ]
  },
  {
   "cell_type": "code",
   "execution_count": 4,
   "id": "6a2c896d",
   "metadata": {},
   "outputs": [
    {
     "data": {
      "text/plain": [
       "(50000, 32, 32, 3)"
      ]
     },
     "execution_count": 4,
     "metadata": {},
     "output_type": "execute_result"
    }
   ],
   "source": [
    "x_train.shape"
   ]
  },
  {
   "cell_type": "code",
   "execution_count": 5,
   "id": "658f4522",
   "metadata": {},
   "outputs": [
    {
     "data": {
      "text/plain": [
       "(10000, 32, 32, 3)"
      ]
     },
     "execution_count": 5,
     "metadata": {},
     "output_type": "execute_result"
    }
   ],
   "source": [
    "x_test.shape"
   ]
  },
  {
   "cell_type": "code",
   "execution_count": 8,
   "id": "2bf6ab97",
   "metadata": {},
   "outputs": [
    {
     "data": {
      "text/plain": [
       "array([[[ 59,  62,  63],\n",
       "        [ 43,  46,  45],\n",
       "        [ 50,  48,  43],\n",
       "        ...,\n",
       "        [158, 132, 108],\n",
       "        [152, 125, 102],\n",
       "        [148, 124, 103]],\n",
       "\n",
       "       [[ 16,  20,  20],\n",
       "        [  0,   0,   0],\n",
       "        [ 18,   8,   0],\n",
       "        ...,\n",
       "        [123,  88,  55],\n",
       "        [119,  83,  50],\n",
       "        [122,  87,  57]],\n",
       "\n",
       "       [[ 25,  24,  21],\n",
       "        [ 16,   7,   0],\n",
       "        [ 49,  27,   8],\n",
       "        ...,\n",
       "        [118,  84,  50],\n",
       "        [120,  84,  50],\n",
       "        [109,  73,  42]],\n",
       "\n",
       "       ...,\n",
       "\n",
       "       [[208, 170,  96],\n",
       "        [201, 153,  34],\n",
       "        [198, 161,  26],\n",
       "        ...,\n",
       "        [160, 133,  70],\n",
       "        [ 56,  31,   7],\n",
       "        [ 53,  34,  20]],\n",
       "\n",
       "       [[180, 139,  96],\n",
       "        [173, 123,  42],\n",
       "        [186, 144,  30],\n",
       "        ...,\n",
       "        [184, 148,  94],\n",
       "        [ 97,  62,  34],\n",
       "        [ 83,  53,  34]],\n",
       "\n",
       "       [[177, 144, 116],\n",
       "        [168, 129,  94],\n",
       "        [179, 142,  87],\n",
       "        ...,\n",
       "        [216, 184, 140],\n",
       "        [151, 118,  84],\n",
       "        [123,  92,  72]]], dtype=uint8)"
      ]
     },
     "execution_count": 8,
     "metadata": {},
     "output_type": "execute_result"
    }
   ],
   "source": [
    "x_train[0]"
   ]
  },
  {
   "cell_type": "code",
   "execution_count": 15,
   "id": "5f70a3b8",
   "metadata": {},
   "outputs": [],
   "source": [
    "def plot_sample(index):\n",
    "    plt.figure(figsize = (10,1))\n",
    "    plt.imshow(x_train[index])\n"
   ]
  },
  {
   "cell_type": "code",
   "execution_count": 19,
   "id": "6e030ca2",
   "metadata": {},
   "outputs": [
    {
     "data": {
      "image/png": "[encoded data removed]",
      "text/plain": [
       "<Figure size 1000x100 with 1 Axes>"
      ]
     },
     "metadata": {},
     "output_type": "display_data"
    }
   ],
   "source": [
    "plot_sample(67)"
   ]
  },
  {
   "cell_type": "markdown",
   "id": "d28de411",
   "metadata": {},
   "source": [
    "# Scaling the data sample for better accuracy "
   ]
  },
  {
   "cell_type": "code",
   "execution_count": 20,
   "id": "cf3b9ec7",
   "metadata": {},
   "outputs": [],
   "source": [
    "x_train_scaled = (x_train)/255\n",
    "x_test_scaled = (x_test) /255\n"
   ]
  },
  {
   "cell_type": "code",
   "execution_count": 22,
   "id": "7cca2419",
   "metadata": {},
   "outputs": [
    {
     "data": {
      "text/plain": [
       "array([[[0.61960784, 0.43921569, 0.19215686],\n",
       "        [0.62352941, 0.43529412, 0.18431373],\n",
       "        [0.64705882, 0.45490196, 0.2       ],\n",
       "        ...,\n",
       "        [0.5372549 , 0.37254902, 0.14117647],\n",
       "        [0.49411765, 0.35686275, 0.14117647],\n",
       "        [0.45490196, 0.33333333, 0.12941176]],\n",
       "\n",
       "       [[0.59607843, 0.43921569, 0.2       ],\n",
       "        [0.59215686, 0.43137255, 0.15686275],\n",
       "        [0.62352941, 0.44705882, 0.17647059],\n",
       "        ...,\n",
       "        [0.53333333, 0.37254902, 0.12156863],\n",
       "        [0.49019608, 0.35686275, 0.1254902 ],\n",
       "        [0.46666667, 0.34509804, 0.13333333]],\n",
       "\n",
       "       [[0.59215686, 0.43137255, 0.18431373],\n",
       "        [0.59215686, 0.42745098, 0.12941176],\n",
       "        [0.61960784, 0.43529412, 0.14117647],\n",
       "        ...,\n",
       "        [0.54509804, 0.38431373, 0.13333333],\n",
       "        [0.50980392, 0.37254902, 0.13333333],\n",
       "        [0.47058824, 0.34901961, 0.12941176]],\n",
       "\n",
       "       ...,\n",
       "\n",
       "       [[0.26666667, 0.48627451, 0.69411765],\n",
       "        [0.16470588, 0.39215686, 0.58039216],\n",
       "        [0.12156863, 0.34509804, 0.5372549 ],\n",
       "        ...,\n",
       "        [0.14901961, 0.38039216, 0.57254902],\n",
       "        [0.05098039, 0.25098039, 0.42352941],\n",
       "        [0.15686275, 0.33333333, 0.49803922]],\n",
       "\n",
       "       [[0.23921569, 0.45490196, 0.65882353],\n",
       "        [0.19215686, 0.4       , 0.58039216],\n",
       "        [0.1372549 , 0.33333333, 0.51764706],\n",
       "        ...,\n",
       "        [0.10196078, 0.32156863, 0.50980392],\n",
       "        [0.11372549, 0.32156863, 0.49411765],\n",
       "        [0.07843137, 0.25098039, 0.41960784]],\n",
       "\n",
       "       [[0.21176471, 0.41960784, 0.62745098],\n",
       "        [0.21960784, 0.41176471, 0.58431373],\n",
       "        [0.17647059, 0.34901961, 0.51764706],\n",
       "        ...,\n",
       "        [0.09411765, 0.30196078, 0.48627451],\n",
       "        [0.13333333, 0.32941176, 0.50588235],\n",
       "        [0.08235294, 0.2627451 , 0.43137255]]])"
      ]
     },
     "execution_count": 22,
     "metadata": {},
     "output_type": "execute_result"
    }
   ],
   "source": [
    "x_test_scaled[0]"
   ]
  },
  {
   "cell_type": "markdown",
   "id": "4ca85309",
   "metadata": {},
   "source": [
    "# perform onehot encoding\n",
    "mark every categorical data into a perticular group"
   ]
  },
  {
   "cell_type": "code",
   "execution_count": 23,
   "id": "9e32b450",
   "metadata": {},
   "outputs": [
    {
     "data": {
      "text/plain": [
       "array([[6],\n",
       "       [9],\n",
       "       [9],\n",
       "       [4],\n",
       "       [1]], dtype=uint8)"
      ]
     },
     "execution_count": 23,
     "metadata": {},
     "output_type": "execute_result"
    }
   ],
   "source": [
    "y_train[:5]"
   ]
  },
  {
   "cell_type": "code",
   "execution_count": 24,
   "id": "f3aa3794",
   "metadata": {},
   "outputs": [],
   "source": [
    "y_train_categorical = keras.utils.to_categorical(\n",
    "    y_train, num_classes = 10, dtype = 'float32'\n",
    ")\n",
    "    "
   ]
  },
  {
   "cell_type": "code",
   "execution_count": 25,
   "id": "833c1130",
   "metadata": {},
   "outputs": [
    {
     "data": {
      "text/plain": [
       "array([[0., 0., 0., 0., 0., 0., 1., 0., 0., 0.],\n",
       "       [0., 0., 0., 0., 0., 0., 0., 0., 0., 1.],\n",
       "       [0., 0., 0., 0., 0., 0., 0., 0., 0., 1.]], dtype=float32)"
      ]
     },
     "execution_count": 25,
     "metadata": {},
     "output_type": "execute_result"
    }
   ],
   "source": [
    "y_train_categorical[:3]"
   ]
  },
  {
   "cell_type": "code",
   "execution_count": 26,
   "id": "bcb2cc39",
   "metadata": {},
   "outputs": [],
   "source": [
    "y_test_categorical = keras.utils.to_categorical(\n",
    "    y_test, num_classes = 10, dtype = 'float32'\n",
    ")\n",
    " "
   ]
  },
  {
   "cell_type": "code",
   "execution_count": 34,
   "id": "628b70fc",
   "metadata": {},
   "outputs": [
    {
     "name": "stdout",
     "output_type": "stream",
     "text": [
      "Epoch 1/50\n",
      "1563/1563 [==============================] - 95s 60ms/step - loss: 1.8117 - accuracy: 0.3537\n",
      "Epoch 2/50\n",
      "1563/1563 [==============================] - 96s 61ms/step - loss: 1.6225 - accuracy: 0.4278\n",
      "Epoch 3/50\n",
      "1563/1563 [==============================] - 92s 59ms/step - loss: 1.5429 - accuracy: 0.4563\n",
      "Epoch 4/50\n",
      "1563/1563 [==============================] - 91s 58ms/step - loss: 1.4799 - accuracy: 0.4801\n",
      "Epoch 5/50\n",
      "1563/1563 [==============================] - 97s 62ms/step - loss: 1.4326 - accuracy: 0.4967\n",
      "Epoch 6/50\n",
      "1563/1563 [==============================] - 93s 60ms/step - loss: 1.3891 - accuracy: 0.5103\n",
      "Epoch 7/50\n",
      "1563/1563 [==============================] - 95s 61ms/step - loss: 1.3527 - accuracy: 0.5228\n",
      "Epoch 8/50\n",
      "1563/1563 [==============================] - 98s 63ms/step - loss: 1.3167 - accuracy: 0.5375\n",
      "Epoch 9/50\n",
      "1563/1563 [==============================] - 97s 62ms/step - loss: 1.2856 - accuracy: 0.5478\n",
      "Epoch 10/50\n",
      "1563/1563 [==============================] - 99s 63ms/step - loss: 1.2530 - accuracy: 0.5604\n",
      "Epoch 11/50\n",
      "1563/1563 [==============================] - 98s 63ms/step - loss: 1.2262 - accuracy: 0.5711\n",
      "Epoch 12/50\n",
      "1563/1563 [==============================] - 96s 61ms/step - loss: 1.1973 - accuracy: 0.5821\n",
      "Epoch 13/50\n",
      "1563/1563 [==============================] - 96s 62ms/step - loss: 1.1694 - accuracy: 0.5909\n",
      "Epoch 14/50\n",
      "1563/1563 [==============================] - 97s 62ms/step - loss: 1.1417 - accuracy: 0.6013\n",
      "Epoch 15/50\n",
      "1563/1563 [==============================] - 95s 61ms/step - loss: 1.1154 - accuracy: 0.6095\n",
      "Epoch 16/50\n",
      "1563/1563 [==============================] - 101s 64ms/step - loss: 1.0897 - accuracy: 0.6200\n",
      "Epoch 17/50\n",
      "1563/1563 [==============================] - 100s 64ms/step - loss: 1.0634 - accuracy: 0.6290\n",
      "Epoch 18/50\n",
      "1563/1563 [==============================] - 99s 63ms/step - loss: 1.0376 - accuracy: 0.6388\n",
      "Epoch 19/50\n",
      "1563/1563 [==============================] - 102s 65ms/step - loss: 1.0106 - accuracy: 0.6487\n",
      "Epoch 20/50\n",
      "1563/1563 [==============================] - 93s 59ms/step - loss: 0.9875 - accuracy: 0.6560\n",
      "Epoch 21/50\n",
      "1563/1563 [==============================] - 90s 58ms/step - loss: 0.9625 - accuracy: 0.6676\n",
      "Epoch 22/50\n",
      "1563/1563 [==============================] - 90s 58ms/step - loss: 0.9351 - accuracy: 0.6755\n",
      "Epoch 23/50\n",
      "1563/1563 [==============================] - 90s 58ms/step - loss: 0.9109 - accuracy: 0.6846\n",
      "Epoch 24/50\n",
      "1563/1563 [==============================] - 97s 62ms/step - loss: 0.8853 - accuracy: 0.6908\n",
      "Epoch 25/50\n",
      "1563/1563 [==============================] - 99s 63ms/step - loss: 0.8627 - accuracy: 0.7029\n",
      "Epoch 26/50\n",
      "1563/1563 [==============================] - 96s 62ms/step - loss: 0.8374 - accuracy: 0.7105\n",
      "Epoch 27/50\n",
      "1563/1563 [==============================] - 93s 59ms/step - loss: 0.8108 - accuracy: 0.7212\n",
      "Epoch 28/50\n",
      "1563/1563 [==============================] - 99s 63ms/step - loss: 0.7821 - accuracy: 0.7329\n",
      "Epoch 29/50\n",
      "1563/1563 [==============================] - 100s 64ms/step - loss: 0.7563 - accuracy: 0.7420\n",
      "Epoch 30/50\n",
      "1563/1563 [==============================] - 99s 64ms/step - loss: 0.7348 - accuracy: 0.7463\n",
      "Epoch 31/50\n",
      "1563/1563 [==============================] - 96s 62ms/step - loss: 0.7109 - accuracy: 0.7589\n",
      "Epoch 32/50\n",
      "1563/1563 [==============================] - 96s 62ms/step - loss: 0.6853 - accuracy: 0.7666\n",
      "Epoch 33/50\n",
      "1563/1563 [==============================] - 91s 58ms/step - loss: 0.6605 - accuracy: 0.7773\n",
      "Epoch 34/50\n",
      "1563/1563 [==============================] - 96s 61ms/step - loss: 0.6345 - accuracy: 0.7875\n",
      "Epoch 35/50\n",
      "1563/1563 [==============================] - 97s 62ms/step - loss: 0.6116 - accuracy: 0.7925\n",
      "Epoch 36/50\n",
      "1563/1563 [==============================] - 100s 64ms/step - loss: 0.5831 - accuracy: 0.8053\n",
      "Epoch 37/50\n",
      "1563/1563 [==============================] - 106s 68ms/step - loss: 0.5621 - accuracy: 0.8131\n",
      "Epoch 38/50\n",
      "1563/1563 [==============================] - 113s 72ms/step - loss: 0.5389 - accuracy: 0.8218\n",
      "Epoch 39/50\n",
      "1563/1563 [==============================] - 105s 67ms/step - loss: 0.5181 - accuracy: 0.8271\n",
      "Epoch 40/50\n",
      "1563/1563 [==============================] - 111s 71ms/step - loss: 0.4940 - accuracy: 0.8367\n",
      "Epoch 41/50\n",
      "1563/1563 [==============================] - 102s 65ms/step - loss: 0.4739 - accuracy: 0.8455\n",
      "Epoch 42/50\n",
      "1563/1563 [==============================] - 103s 66ms/step - loss: 0.4485 - accuracy: 0.8538\n",
      "Epoch 43/50\n",
      "1563/1563 [==============================] - 99s 63ms/step - loss: 0.4310 - accuracy: 0.8599\n",
      "Epoch 44/50\n",
      "1563/1563 [==============================] - 144s 92ms/step - loss: 0.4092 - accuracy: 0.8674\n",
      "Epoch 45/50\n",
      "1563/1563 [==============================] - 126s 81ms/step - loss: 0.3875 - accuracy: 0.8777\n",
      "Epoch 46/50\n",
      "1563/1563 [==============================] - 136s 87ms/step - loss: 0.3694 - accuracy: 0.8842\n",
      "Epoch 47/50\n",
      "1563/1563 [==============================] - 119s 76ms/step - loss: 0.3519 - accuracy: 0.8903\n",
      "Epoch 48/50\n",
      "1563/1563 [==============================] - 133s 85ms/step - loss: 0.3293 - accuracy: 0.8988\n",
      "Epoch 49/50\n",
      "1563/1563 [==============================] - 128s 82ms/step - loss: 0.3151 - accuracy: 0.9026\n",
      "Epoch 50/50\n",
      "1563/1563 [==============================] - 131s 84ms/step - loss: 0.3030 - accuracy: 0.9086\n"
     ]
    },
    {
     "data": {
      "text/plain": [
       "<keras.callbacks.History at 0x2a98c7b9d50>"
      ]
     },
     "execution_count": 34,
     "metadata": {},
     "output_type": "execute_result"
    }
   ],
   "source": [
    "model = keras.Sequential([\n",
    "    keras.layers.Flatten(input_shape = (32,32,3)),\n",
    "    keras.layers.Dense(3000, activation = 'relu'),\n",
    "    keras.layers.Dense(1000, activation = 'relu'),\n",
    "    keras.layers.Dense(10, activation = 'sigmoid')\n",
    "])\n",
    "\n",
    "model.compile(\n",
    "    optimizer = 'SGD',\n",
    "    loss = 'categorical_crossentropy',\n",
    "    metrics = ['accuracy'])\n",
    "\n",
    "model.fit(x_train_scaled, y_train_categorical, epochs = 50)"
   ]
  },
  {
   "cell_type": "code",
   "execution_count": 42,
   "id": "0f24953f",
   "metadata": {},
   "outputs": [],
   "source": [
    "classes = [\"airplane\",\"automobile\",\"bird\",\"cat\",\"deer\",\"dog\",\"frog\",\"horse\",\"ship\",\"truck\"]"
   ]
  },
  {
   "cell_type": "code",
   "execution_count": 48,
   "id": "16fad16b",
   "metadata": {},
   "outputs": [
    {
     "name": "stdout",
     "output_type": "stream",
     "text": [
      "313/313 [==============================] - 5s 17ms/step\n"
     ]
    },
    {
     "data": {
      "text/plain": [
       "'airplane'"
      ]
     },
     "execution_count": 48,
     "metadata": {},
     "output_type": "execute_result"
    }
   ],
   "source": [
    "classes[np.argmax(model.predict(x_test_scaled)[3])]"
   ]
  },
  {
   "cell_type": "code",
   "execution_count": 47,
   "id": "d6e29100",
   "metadata": {},
   "outputs": [
    {
     "data": {
      "text/plain": [
       "'airplane'"
      ]
     },
     "execution_count": 47,
     "metadata": {},
     "output_type": "execute_result"
    }
   ],
   "source": [
    "classes[y_test[3][0]]"
   ]
  },
  {
   "cell_type": "code",
   "execution_count": 51,
   "id": "4ee42d16",
   "metadata": {},
   "outputs": [
    {
     "name": "stdout",
     "output_type": "stream",
     "text": [
      "313/313 [==============================] - 5s 16ms/step - loss: 1.5992 - accuracy: 0.5572\n"
     ]
    },
    {
     "data": {
      "text/plain": [
       "[1.5992273092269897, 0.557200014591217]"
      ]
     },
     "execution_count": 51,
     "metadata": {},
     "output_type": "execute_result"
    }
   ],
   "source": [
    "model.evaluate(x_test_scaled,y_test_categorical)"
   ]
  },
  {
   "cell_type": "code",
   "execution_count": null,
   "id": "fcb72a00",
   "metadata": {},
   "outputs": [],
   "source": []
  }
 ],
 "metadata": {
  "kernelspec": {
   "display_name": "Python 3 (ipykernel)",
   "language": "python",
   "name": "python3"
  },
  "language_info": {
   "codemirror_mode": {
    "name": "ipython",
    "version": 3
   },
   "file_extension": ".py",
   "mimetype": "text/x-python",
   "name": "python",
   "nbconvert_exporter": "python",
   "pygments_lexer": "ipython3",
   "version": "3.10.9"
  }
 },
 "nbformat": 4,
 "nbformat_minor": 5
}
